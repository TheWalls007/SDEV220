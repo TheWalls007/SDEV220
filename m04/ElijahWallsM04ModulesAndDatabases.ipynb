{
 "cells": [
  {
   "cell_type": "code",
   "execution_count": 4,
   "id": "439db210-36bf-4f66-921a-197895ea431c",
   "metadata": {},
   "outputs": [],
   "source": [
    "# 11.1 \n",
    "# zoo.py\n",
    "# name of python file if it were in vs code\n",
    "\n",
    "# function for open hours\n",
    "def hours():\n",
    "    print('Open 9-5 daily')\n",
    "\n",
    "# idk what to do here so I just acted as how it would in vs code\n",
    "# import zoo\n",
    "# zoo.hours()\n",
    "#    Open 9-5 daily\n"
   ]
  },
  {
   "cell_type": "code",
   "execution_count": 2,
   "id": "5576a713-9575-4d75-83de-229aed8451af",
   "metadata": {},
   "outputs": [],
   "source": [
    "# 11.2\n",
    "# acting as if this was vs code\n",
    "# import zoo as menagerie\n",
    "# menagerie.hours()\n",
    "# Open 9-5 daily\n",
    "\n"
   ]
  },
  {
   "cell_type": "code",
   "execution_count": 7,
   "id": "0f00394b-cf59-478d-aa53-51a733ca4750",
   "metadata": {},
   "outputs": [
    {
     "name": "stdout",
     "output_type": "stream",
     "text": [
      "sorry\n"
     ]
    }
   ],
   "source": [
    "# 16.8\n",
    "# I don't know how to do this in jupyter\n",
    "print(\"sorry\")"
   ]
  }
 ],
 "metadata": {
  "kernelspec": {
   "display_name": "Python 3 (ipykernel)",
   "language": "python",
   "name": "python3"
  },
  "language_info": {
   "codemirror_mode": {
    "name": "ipython",
    "version": 3
   },
   "file_extension": ".py",
   "mimetype": "text/x-python",
   "name": "python",
   "nbconvert_exporter": "python",
   "pygments_lexer": "ipython3",
   "version": "3.11.7"
  }
 },
 "nbformat": 4,
 "nbformat_minor": 5
}
