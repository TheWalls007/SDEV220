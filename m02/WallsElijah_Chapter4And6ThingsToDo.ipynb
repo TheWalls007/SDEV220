{
 "cells": [
  {
   "cell_type": "code",
   "execution_count": null,
   "id": "3a4e3578-522f-4571-9ffb-a8bc131966a7",
   "metadata": {},
   "outputs": [],
   "source": [
    "# Elijah Walls\n",
    "# 3/31/24"
   ]
  },
  {
   "cell_type": "code",
   "execution_count": null,
   "id": "cc50179f-a8fa-4d55-9472-5c40ca614840",
   "metadata": {},
   "outputs": [],
   "source": [
    "# 4.1\n",
    "\n",
    "# Variables, secret containing the number the user must guess and guess being the inputted number by user\n",
    "secret = 4\n",
    "guess = int(input(\"Guess a number between 1 and 10: \"))\n",
    "\n",
    "# Loop to let user keep guessing until they have a correct guess\n",
    "while guess != secret:\n",
    "    if guess > secret:\n",
    "        print(\"Too high\")\n",
    "    elif guess < secret:\n",
    "        print(\"Too low\")\n",
    "    guess = int(input(\"Guess a number between 1 and 10: \"))\n",
    "\n",
    "# Print this when the user guesses correctly\n",
    "print(\"Just right\")"
   ]
  },
  {
   "cell_type": "code",
   "execution_count": 6,
   "id": "2ffcb9b8-b92b-4990-a30b-20455b95b3a5",
   "metadata": {},
   "outputs": [
    {
     "name": "stdout",
     "output_type": "stream",
     "text": [
      "cherry is not small but green.\n",
      "pea is not small but green.\n",
      "watermelon is not small but green.\n",
      "pumpkin is not small but green.\n"
     ]
    }
   ],
   "source": [
    "# 4.2\n",
    "\n",
    "# Assign True or False to the variables small and green\n",
    "small = False\n",
    "green = True\n",
    "\n",
    "# List of testing items\n",
    "items = ['cherry', 'pea', 'watermelon', 'pumpkin']\n",
    "\n",
    "# Check if each item matches the choices\n",
    "for item in items:\n",
    "    if small and green:\n",
    "        print(f\"{item} is small and green.\")\n",
    "    elif small and not green:\n",
    "        print(f\"{item} is small but not green.\")\n",
    "    elif not small and green:\n",
    "        print(f\"{item} is not small but green.\")\n",
    "    else:\n",
    "        print(f\"{item} is neither small nor green.\")\n"
   ]
  },
  {
   "cell_type": "code",
   "execution_count": 8,
   "id": "b3812605-0396-44af-af5a-9077f9229253",
   "metadata": {},
   "outputs": [
    {
     "name": "stdout",
     "output_type": "stream",
     "text": [
      "3\n",
      "2\n",
      "1\n",
      "0\n"
     ]
    }
   ],
   "source": [
    "# 6.1\n",
    "\n",
    "# List containing numbers to print\n",
    "NumberList = [3, 2, 1, 0]\n",
    "\n",
    "# Loop to print each number in the list\n",
    "for Number in NumberList:\n",
    "    print(Number)"
   ]
  },
  {
   "cell_type": "code",
   "execution_count": 10,
   "id": "4d8ff88e-69a7-44b7-8fe5-1b9891a8825c",
   "metadata": {},
   "outputs": [
    {
     "name": "stdout",
     "output_type": "stream",
     "text": [
      "too low\n",
      "oops\n"
     ]
    }
   ],
   "source": [
    "# 6.2\n",
    "\n",
    "# Assign variables\n",
    "guess_me = 7\n",
    "number = 1\n",
    "\n",
    "# While loop to compares number to guess_me\n",
    "while True:\n",
    "    if number < guess_me:\n",
    "        print('too low')\n",
    "    elif number == guess_me:\n",
    "        print('found it!')\n",
    "        break\n",
    "    else:\n",
    "        print('oops')\n",
    "        break\n",
    "    number += 1"
   ]
  },
  {
   "cell_type": "code",
   "execution_count": 11,
   "id": "dac849aa-fc73-4cc3-b0e1-7ffc26519bfa",
   "metadata": {},
   "outputs": [
    {
     "name": "stdout",
     "output_type": "stream",
     "text": [
      "too low\n",
      "too low\n",
      "too low\n",
      "too low\n",
      "too low\n",
      "found it!\n"
     ]
    }
   ],
   "source": [
    "# 6.3\n",
    "\n",
    "# Assign variable\n",
    "guess_me = 5\n",
    "\n",
    "# For loop to guess until guess_me is found\n",
    "for number in range(10):\n",
    "    if number < guess_me:\n",
    "        print('too low')\n",
    "    elif number == guess_me:\n",
    "        print('found it!')\n",
    "        break\n",
    "    else:\n",
    "        print('oops')\n",
    "        break\n"
   ]
  }
 ],
 "metadata": {
  "kernelspec": {
   "display_name": "Python 3 (ipykernel)",
   "language": "python",
   "name": "python3"
  },
  "language_info": {
   "codemirror_mode": {
    "name": "ipython",
    "version": 3
   },
   "file_extension": ".py",
   "mimetype": "text/x-python",
   "name": "python",
   "nbconvert_exporter": "python",
   "pygments_lexer": "ipython3",
   "version": "3.11.7"
  }
 },
 "nbformat": 4,
 "nbformat_minor": 5
}
